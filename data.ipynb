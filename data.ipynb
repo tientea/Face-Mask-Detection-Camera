{
 "cells": [
  {
   "cell_type": "code",
   "execution_count": null,
   "metadata": {},
   "outputs": [],
   "source": [
    "import cv2\n",
    "import matplotlib.pyplot as plt\n",
    "import numpy as np"
   ]
  },
  {
   "cell_type": "code",
   "execution_count": null,
   "metadata": {},
   "outputs": [],
   "source": [
    "img = cv2.imread(\"C:/Users/user/JupyterLab/Face-Mask-Detection-master/Face-Mask-Detection-master/dataset/without_mask/0.jpg\")"
   ]
  },
  {
   "cell_type": "code",
   "execution_count": null,
   "metadata": {},
   "outputs": [],
   "source": [
    "#camera\n",
    "#if have video just do cv2.VideoCapture('Videoname.mp3')\n",
    "capture = cv2.VideoCapture(0)\n",
    "data= []\n",
    "while True: \n",
    "    flag,img = capture.read()\n",
    "    if flag: \n",
    "        face = haar_data.detectMultiScale(img)\n",
    "        for x,y,w,h in face:\n",
    "            cv2.rectangle(img, (x,y), (x+w, y+h),(255,0,255),4)\n",
    "            face1 = img[y:y+h, x: x+w, :]\n",
    "            face1 = cv2.resize(face1, (50,50))\n",
    "            print(len(data))\n",
    "            if len(data) < 400: \n",
    "                data.append(face1)\n",
    "        cv2.imshow('lady',img)\n",
    "        #27 ==> Escape button in ASCII\n",
    "        if cv2.waitKey(2) == 27 or len(data) >= 200 : \n",
    "            break\n",
    "            \n",
    "capture.release()\n",
    "cv2.destroyAllWindows()"
   ]
  },
  {
   "cell_type": "code",
   "execution_count": null,
   "metadata": {},
   "outputs": [],
   "source": [
    "np.save('without_mask.npy', data)\n",
    "np.save('with_mask.npy',data)"
   ]
  },
  {
   "cell_type": "code",
   "execution_count": null,
   "metadata": {},
   "outputs": [],
   "source": [
    "plt.imshow(data[40])"
   ]
  }
 ],
 "metadata": {
  "kernelspec": {
   "display_name": "Python 3",
   "language": "python",
   "name": "python3"
  },
  "language_info": {
   "codemirror_mode": {
    "name": "ipython",
    "version": 3
   },
   "file_extension": ".py",
   "mimetype": "text/x-python",
   "name": "python",
   "nbconvert_exporter": "python",
   "pygments_lexer": "ipython3",
   "version": "3.8.3"
  }
 },
 "nbformat": 4,
 "nbformat_minor": 4
}
