{
 "cells": [
  {
   "cell_type": "code",
   "execution_count": 3,
   "metadata": {},
   "outputs": [],
   "source": [
    "import numpy as np \n",
    "import cv2\n",
    "from sklearn.svm import SVC\n",
    "from sklearn.metrics import accuracy_score\n",
    "from sklearn.model_selection import train_test_split\n",
    "from sklearn.decomposition import PCA\n",
    "from sklearn.metrics import f1_score"
   ]
  },
  {
   "cell_type": "code",
   "execution_count": 2,
   "metadata": {},
   "outputs": [],
   "source": [
    "with_mask = np.load('with_mask.npy')\n",
    "without_mask = np.load('without_mask.npy')\n",
    "with_mask = with_mask.reshape(200,50*50*3)\n",
    "without_mask = without_mask.reshape(200, 50*50*3)"
   ]
  },
  {
   "cell_type": "code",
   "execution_count": 4,
   "metadata": {},
   "outputs": [],
   "source": [
    "X = np.r_[with_mask,without_mask]\n",
    "labels = np.zeros(X.shape[0])\n",
    "labels[200:] = 1.0\n",
    "names = {0: 'Mask', 1: 'No Mask'}"
   ]
  },
  {
   "cell_type": "code",
   "execution_count": 9,
   "metadata": {},
   "outputs": [],
   "source": [
    "x_train, x_test, y_train, y_test = train_test_split(X,labels, test_size = 0.25)"
   ]
  },
  {
   "cell_type": "code",
   "execution_count": 15,
   "metadata": {},
   "outputs": [],
   "source": [
    "pca = PCA(n_components= 3)\n",
    "x_train = pca.fit_transform(x_train)"
   ]
  },
  {
   "cell_type": "code",
   "execution_count": 16,
   "metadata": {},
   "outputs": [
    {
     "data": {
      "text/plain": [
       "SVC()"
      ]
     },
     "execution_count": 16,
     "metadata": {},
     "output_type": "execute_result"
    }
   ],
   "source": [
    "svm = SVC()\n",
    "svm.fit(x_train, y_train)"
   ]
  },
  {
   "cell_type": "code",
   "execution_count": 17,
   "metadata": {},
   "outputs": [],
   "source": [
    "#transform into 3 dimension\n",
    "x_test = pca.transform(x_test)\n",
    "y_pred = svm.predict(x_test)"
   ]
  },
  {
   "cell_type": "code",
   "execution_count": 18,
   "metadata": {},
   "outputs": [
    {
     "name": "stdout",
     "output_type": "stream",
     "text": [
      "Regular accuracy 0.96\n",
      "F1 Score 0.9607843137254902\n"
     ]
    }
   ],
   "source": [
    "print('Regular accuracy',accuracy_score(y_test,y_pred))\n",
    "print('F1 Score',f1_score(y_test,y_pred))"
   ]
  },
  {
   "cell_type": "code",
   "execution_count": null,
   "metadata": {},
   "outputs": [],
   "source": [
    "#camera\n",
    "#if have video just do cv2.VideoCapture('Videoname.mp3')\n",
    "haar_data = cv2.CascadeClassifier('C:/Users/user/JupyterLab/Face-Mask-Detection-master/haarcascade_frontalface_default.xml')\n",
    "capture = cv2.VideoCapture(0)\n",
    "data= []\n",
    "font= cv2.FONT_HERSHEY_COMPLEX\n",
    "while True: \n",
    "    flag,img = capture.read()\n",
    "    if flag: \n",
    "        face = haar_data.detectMultiScale(img)\n",
    "        for x,y,w,h in face:\n",
    "            cv2.rectangle(img, (x,y), (x+w, y+h),(255,0,255),4)\n",
    "            face1 = img[y:y+h, x: x+w, :]\n",
    "            face1 = cv2.resize(face1, (50,50))\n",
    "            face1 = face1.reshape(1,-1)\n",
    "            face1 = pca.transform(face1)\n",
    "            pred = svm.predict(face1)\n",
    "            n = names[int(pred)]\n",
    "            cv2.putText(img,n,(x,y), font, 1,(244,250,250),4 )\n",
    "            print(n)\n",
    "        cv2.imshow('Mask detection',img)\n",
    "        #27 ==> Escape button in ASCII\n",
    "        if cv2.waitKey(2) == 27: \n",
    "            break\n",
    "            \n",
    "capture.release()\n",
    "cv2.destroyAllWindows()"
   ]
  },
  {
   "cell_type": "code",
   "execution_count": null,
   "metadata": {},
   "outputs": [],
   "source": []
  }
 ],
 "metadata": {
  "kernelspec": {
   "display_name": "Python 3",
   "language": "python",
   "name": "python3"
  },
  "language_info": {
   "codemirror_mode": {
    "name": "ipython",
    "version": 3
   },
   "file_extension": ".py",
   "mimetype": "text/x-python",
   "name": "python",
   "nbconvert_exporter": "python",
   "pygments_lexer": "ipython3",
   "version": "3.8.3"
  }
 },
 "nbformat": 4,
 "nbformat_minor": 4
}
